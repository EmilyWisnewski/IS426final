{
 "cells": [
  {
   "cell_type": "code",
   "execution_count": null,
   "metadata": {},
   "outputs": [],
   "source": [
    "#gets data\n",
    "\n",
    "import json\n",
    "import requests\n",
    "url = 'https://www.forbes.com/billionaires/page-data/index/page-data.json'\n",
    "rawfile = requests.get(url)\n",
    "data = json.loads(rawfile.content)"
   ]
  },
  {
   "cell_type": "code",
   "execution_count": null,
   "metadata": {},
   "outputs": [],
   "source": [
    "#imports sql\n",
    "\n",
    "import pymysql\n",
    "\n",
    "connection = pymysql.connect(host = 'mysql.clarksonmsda.org', database = 'wisnewemIS426FINAL', user = 'wisnewem', password = 'Zewski02!!!', autocommit=True)\n",
    "\n",
    "\n",
    "statement = \"INSERT INTO billionaires_data\" \n",
    "statement += \" (name, age, country, organization, industries, gender, rank, final_worth, net_worth, title)\"\n",
    "#statement += \" (name, rank, final_worth, age, country, industries, organization, title, gender)\"\n",
    "statement += \" VALUES (%s, %s, %s, %s, %s, %s, %s, %s, %s, %s);\"\n",
    "\n",
    "table_data = data['result']['pageContext']['tableData']\n",
    "\n",
    "with connection:\n",
    "    with connection.cursor() as cursor:\n",
    "        \n",
    "        running = True\n",
    "        count = 0\n",
    "        while running:\n",
    "            print(f'Processing table row {count}')\n",
    "            \n",
    "            name = None\n",
    "            age = None\n",
    "            country = None\n",
    "            \n",
    "            \n",
    "            try:\n",
    "                person_data = table_data[count]\n",
    "                name = person_data['personName'] if 'personName' in person_data.keys() else None\n",
    "                age = person_data['age'] if 'age' in person_data.keys() else None\n",
    "                country = person_data['country'] if 'country' in person_data.keys() else None\n",
    "                organization = person_data['organization'] if 'organization' in person_data.keys() else None\n",
    "                industries = person_data['industries'] if 'industries' in person_data.keys() else None\n",
    "                gender = person_data['gender'] if 'gender' in person_data.keys() else None\n",
    "                rank = person_data['rank'] if 'rank' in person_data.keys() else None\n",
    "                final_worth = person_data['finalWorth'] if 'finalWorth' in person_data.keys() else None\n",
    "                net_worth = person_data['netWorth'] if 'netWorth' in person_data.keys() else None\n",
    "                title = person_data['title'] if 'title' in person_data.keys() else None\n",
    "\n",
    "                cursor.execute(statement, (name, age, country, organization, industries, gender, rank, final_worth, net_worth, title))\n",
    "                connection.commit()\n",
    "                \n",
    "            except KeyError as e:\n",
    "                print(type(e))\n",
    "                print(e)\n",
    "                running = False\n",
    "                \n",
    "            except pymysql.err.IntegrityError as e:\n",
    "                print(type(e))\n",
    "                print(e)\n",
    "                connection.rollback()\n",
    "            \n",
    "            except Exception as e:\n",
    "                print(type(e))\n",
    "                print(e)\n",
    "                \n",
    "            count += 1\n",
    "\n",
    "connection.close()"
   ]
  }
 ],
 "metadata": {
  "kernelspec": {
   "display_name": "Python 3.10.6 64-bit",
   "language": "python",
   "name": "python3"
  },
  "language_info": {
   "name": "python",
   "version": "3.10.6"
  },
  "orig_nbformat": 4,
  "vscode": {
   "interpreter": {
    "hash": "aee8b7b246df8f9039afb4144a1f6fd8d2ca17a180786b69acc140d282b71a49"
   }
  }
 },
 "nbformat": 4,
 "nbformat_minor": 2
}
